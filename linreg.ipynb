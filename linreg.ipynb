{
 "cells": [
  {
   "cell_type": "markdown",
   "id": "essential-twist",
   "metadata": {},
   "source": [
    "# Linear Regression using the Auto-mpg dataset."
   ]
  },
  {
   "cell_type": "markdown",
   "id": "super-virginia",
   "metadata": {},
   "source": [
    "Import dataset using Pandas"
   ]
  },
  {
   "cell_type": "code",
   "execution_count": 1,
   "id": "suburban-cleaning",
   "metadata": {},
   "outputs": [],
   "source": [
    "import pandas as pd\n",
    "\n",
    "adf = pd.read_csv('auto-mpg.csv')"
   ]
  },
  {
   "cell_type": "code",
   "execution_count": 2,
   "id": "talented-movement",
   "metadata": {},
   "outputs": [],
   "source": [
    "#Imports\n",
    "import matplotlib.pyplot as plt"
   ]
  },
  {
   "cell_type": "code",
   "execution_count": 3,
   "id": "given-blocking",
   "metadata": {},
   "outputs": [
    {
     "data": {
      "text/plain": [
       "cylinders       398\n",
       "displacement    398\n",
       "horsepower      392\n",
       "weight          398\n",
       "acceleration    398\n",
       "model year      398\n",
       "origin          398\n",
       "mpg             398\n",
       "car name        398\n",
       "dtype: int64"
      ]
     },
     "execution_count": 3,
     "metadata": {},
     "output_type": "execute_result"
    }
   ],
   "source": [
    "adf.count()"
   ]
  },
  {
   "cell_type": "markdown",
   "id": "returning-oriental",
   "metadata": {},
   "source": [
    "We note there are features with missing values. Let us drop the rows with missing values."
   ]
  },
  {
   "cell_type": "code",
   "execution_count": 4,
   "id": "signed-breakfast",
   "metadata": {},
   "outputs": [],
   "source": [
    "adf.dropna(inplace=True)  # drop rows with missing values"
   ]
  },
  {
   "cell_type": "code",
   "execution_count": 5,
   "id": "naval-egypt",
   "metadata": {},
   "outputs": [
    {
     "data": {
      "text/plain": [
       "cylinders       392\n",
       "displacement    392\n",
       "horsepower      392\n",
       "weight          392\n",
       "acceleration    392\n",
       "model year      392\n",
       "origin          392\n",
       "mpg             392\n",
       "car name        392\n",
       "dtype: int64"
      ]
     },
     "execution_count": 5,
     "metadata": {},
     "output_type": "execute_result"
    }
   ],
   "source": [
    "adf.count()   # verify"
   ]
  },
  {
   "cell_type": "code",
   "execution_count": 6,
   "id": "connected-insurance",
   "metadata": {},
   "outputs": [
    {
     "data": {
      "text/html": [
       "<div>\n",
       "<style scoped>\n",
       "    .dataframe tbody tr th:only-of-type {\n",
       "        vertical-align: middle;\n",
       "    }\n",
       "\n",
       "    .dataframe tbody tr th {\n",
       "        vertical-align: top;\n",
       "    }\n",
       "\n",
       "    .dataframe thead th {\n",
       "        text-align: right;\n",
       "    }\n",
       "</style>\n",
       "<table border=\"1\" class=\"dataframe\">\n",
       "  <thead>\n",
       "    <tr style=\"text-align: right;\">\n",
       "      <th></th>\n",
       "      <th>cylinders</th>\n",
       "      <th>displacement</th>\n",
       "      <th>horsepower</th>\n",
       "      <th>weight</th>\n",
       "      <th>acceleration</th>\n",
       "      <th>model year</th>\n",
       "      <th>origin</th>\n",
       "      <th>mpg</th>\n",
       "      <th>car name</th>\n",
       "    </tr>\n",
       "  </thead>\n",
       "  <tbody>\n",
       "    <tr>\n",
       "      <th>0</th>\n",
       "      <td>8</td>\n",
       "      <td>307.0</td>\n",
       "      <td>130.0</td>\n",
       "      <td>3504.0</td>\n",
       "      <td>12.0</td>\n",
       "      <td>70</td>\n",
       "      <td>1</td>\n",
       "      <td>18.0</td>\n",
       "      <td>chevrolet chevelle malibu</td>\n",
       "    </tr>\n",
       "    <tr>\n",
       "      <th>1</th>\n",
       "      <td>8</td>\n",
       "      <td>350.0</td>\n",
       "      <td>165.0</td>\n",
       "      <td>3693.0</td>\n",
       "      <td>11.5</td>\n",
       "      <td>70</td>\n",
       "      <td>1</td>\n",
       "      <td>15.0</td>\n",
       "      <td>buick skylark 320</td>\n",
       "    </tr>\n",
       "    <tr>\n",
       "      <th>2</th>\n",
       "      <td>8</td>\n",
       "      <td>318.0</td>\n",
       "      <td>150.0</td>\n",
       "      <td>3436.0</td>\n",
       "      <td>11.0</td>\n",
       "      <td>70</td>\n",
       "      <td>1</td>\n",
       "      <td>18.0</td>\n",
       "      <td>plymouth satellite</td>\n",
       "    </tr>\n",
       "    <tr>\n",
       "      <th>3</th>\n",
       "      <td>8</td>\n",
       "      <td>304.0</td>\n",
       "      <td>150.0</td>\n",
       "      <td>3433.0</td>\n",
       "      <td>12.0</td>\n",
       "      <td>70</td>\n",
       "      <td>1</td>\n",
       "      <td>16.0</td>\n",
       "      <td>amc rebel sst</td>\n",
       "    </tr>\n",
       "    <tr>\n",
       "      <th>4</th>\n",
       "      <td>8</td>\n",
       "      <td>302.0</td>\n",
       "      <td>140.0</td>\n",
       "      <td>3449.0</td>\n",
       "      <td>10.5</td>\n",
       "      <td>70</td>\n",
       "      <td>1</td>\n",
       "      <td>17.0</td>\n",
       "      <td>ford torino</td>\n",
       "    </tr>\n",
       "  </tbody>\n",
       "</table>\n",
       "</div>"
      ],
      "text/plain": [
       "   cylinders  displacement  horsepower  weight  acceleration  model year  \\\n",
       "0          8         307.0       130.0  3504.0          12.0          70   \n",
       "1          8         350.0       165.0  3693.0          11.5          70   \n",
       "2          8         318.0       150.0  3436.0          11.0          70   \n",
       "3          8         304.0       150.0  3433.0          12.0          70   \n",
       "4          8         302.0       140.0  3449.0          10.5          70   \n",
       "\n",
       "   origin   mpg                   car name  \n",
       "0       1  18.0  chevrolet chevelle malibu  \n",
       "1       1  15.0          buick skylark 320  \n",
       "2       1  18.0         plymouth satellite  \n",
       "3       1  16.0              amc rebel sst  \n",
       "4       1  17.0                ford torino  "
      ]
     },
     "execution_count": 6,
     "metadata": {},
     "output_type": "execute_result"
    }
   ],
   "source": [
    "adf.head()   #snapshot of the dataset"
   ]
  },
  {
   "cell_type": "markdown",
   "id": "educated-clinic",
   "metadata": {},
   "source": [
    "We split our dataset into features and the target label."
   ]
  },
  {
   "cell_type": "code",
   "execution_count": 7,
   "id": "reported-drive",
   "metadata": {},
   "outputs": [],
   "source": [
    "X = adf.drop([\"mpg\", \"car name\"], axis=1) # features\n",
    "y = adf[\"mpg\"]  # label"
   ]
  },
  {
   "cell_type": "markdown",
   "id": "illegal-programmer",
   "metadata": {},
   "source": [
    "...and create a regression model"
   ]
  },
  {
   "cell_type": "code",
   "execution_count": 8,
   "id": "perceived-collection",
   "metadata": {
    "tags": []
   },
   "outputs": [],
   "source": [
    "from sklearn.linear_model import LinearRegression\n",
    "model = LinearRegression()"
   ]
  },
  {
   "cell_type": "code",
   "execution_count": 9,
   "id": "suited-heater",
   "metadata": {},
   "outputs": [],
   "source": [
    "from sklearn.model_selection import KFold, StratifiedKFold\n",
    "from sklearn.metrics import mean_squared_error, r2_score"
   ]
  },
  {
   "cell_type": "markdown",
   "id": "loving-armstrong",
   "metadata": {},
   "source": [
    "We use 10-fold cross validation and examine the values of $R^2$ and RMSE."
   ]
  },
  {
   "cell_type": "code",
   "execution_count": 10,
   "id": "taken-inventory",
   "metadata": {},
   "outputs": [
    {
     "name": "stdout",
     "output_type": "stream",
     "text": [
      "KFold(n_splits=10, random_state=None, shuffle=True)\n"
     ]
    }
   ],
   "source": [
    "kf = KFold(n_splits=10, shuffle= True, random_state = None)\n",
    "kf.get_n_splits(X)\n",
    "print(kf)"
   ]
  },
  {
   "cell_type": "code",
   "execution_count": 11,
   "id": "surprising-feedback",
   "metadata": {},
   "outputs": [
    {
     "name": "stdout",
     "output_type": "stream",
     "text": [
      "r2 =  0.7815640837439892 rmse =  11.35530373220222\n",
      "r2 =  0.8427805129222382 rmse =  11.019792913869887\n",
      "r2 =  0.8241274045313767 rmse =  10.129317961596897\n",
      "r2 =  0.8120783380336456 rmse =  11.78527042931086\n",
      "r2 =  0.8021990472629312 rmse =  10.519135295479538\n",
      "r2 =  0.8134330688693333 rmse =  12.200248235689234\n",
      "r2 =  0.7932343127010717 rmse =  13.08712066716562\n",
      "r2 =  0.7967853595944694 rmse =  8.46590588658116\n",
      "r2 =  0.7726951416561905 rmse =  15.353329820707067\n",
      "r2 =  0.8544881049834726 rmse =  8.897379830213339\n"
     ]
    }
   ],
   "source": [
    "for train_index, test_index in kf.split(X,y):\n",
    "    #print(\"TRAIN: \", train_index, \"TEST: \", test_index)\n",
    "    X_train, X_test = X.iloc[train_index], X.iloc[test_index]\n",
    "    y_train, y_test = y.iloc[train_index], y.iloc[test_index]\n",
    "    model.fit(X_train, y_train) #Train the model\n",
    "    yhat = model.predict(X_test)\n",
    "    r2=r2_score(y_test,yhat)\n",
    "    rmse = mean_squared_error(y_test, yhat)\n",
    "    print(\"r2 = \", r2, \"rmse = \", rmse)"
   ]
  },
  {
   "cell_type": "markdown",
   "id": "numeric-breeding",
   "metadata": {},
   "source": [
    "We observe fluctuating values of $R^2$ and RMSE. This could be because of overfitting.  "
   ]
  },
  {
   "cell_type": "markdown",
   "id": "residential-essence",
   "metadata": {},
   "source": [
    "### Visualization\n",
    "\n",
    "We now visualize the performance of the model. We will first plot the residuals.\n",
    "Ideally, residuals should ideally straddle the zero line and be clustered around it.\n",
    "Otherwise it indicates that a linear model may not be the best fit."
   ]
  },
  {
   "cell_type": "code",
   "execution_count": 12,
   "id": "noted-notification",
   "metadata": {},
   "outputs": [
    {
     "data": {
      "image/png": "[encoded data removed]",
      "text/plain": [
       "<Figure size 432x288 with 1 Axes>"
      ]
     },
     "metadata": {
      "needs_background": "light"
     },
     "output_type": "display_data"
    }
   ],
   "source": [
    "import matplotlib.pyplot as plt\n",
    "plt.scatter(yhat, yhat-y_test)  #plot residuals vs. fitted values\n",
    "plt.title(\"Residuals Plot\")\n",
    "plt.xlabel('yhat')\n",
    "plt.ylabel('residuals')\n",
    "plt.plot([0,40],[0,0],color='black')\n",
    "plt.show()"
   ]
  },
  {
   "cell_type": "markdown",
   "id": "expired-speaker",
   "metadata": {},
   "source": [
    "Next we plot y predicted vs. y true on a y true identity line to see how good the predictions are."
   ]
  },
  {
   "cell_type": "code",
   "execution_count": 13,
   "id": "fifteen-organ",
   "metadata": {},
   "outputs": [
    {
     "data": {
      "image/png": "[encoded data removed]",
      "text/plain": [
       "<Figure size 432x288 with 1 Axes>"
      ]
     },
     "metadata": {
      "needs_background": "light"
     },
     "output_type": "display_data"
    }
   ],
   "source": [
    "plt.scatter(y_test, yhat, color = \"g\")\n",
    "plt.plot(y_test, y_test, color = \"gray\", label = \"identity\")\n",
    "plt.title(\"y predicted vs y true\")\n",
    "plt.legend()\n",
    "plt.xlabel(\"y test(mpg)\")\n",
    "plt.ylabel(\"y hat(mpg)\")  \n",
    "plt.show()"
   ]
  },
  {
   "cell_type": "code",
   "execution_count": null,
   "id": "victorian-photography",
   "metadata": {},
   "outputs": [],
   "source": []
  }
 ],
 "metadata": {
  "kernelspec": {
   "display_name": "Python 3",
   "language": "python",
   "name": "python3"
  },
  "language_info": {
   "codemirror_mode": {
    "name": "ipython",
    "version": 3
   },
   "file_extension": ".py",
   "mimetype": "text/x-python",
   "name": "python",
   "nbconvert_exporter": "python",
   "pygments_lexer": "ipython3",
   "version": "3.8.5"
  }
 },
 "nbformat": 4,
 "nbformat_minor": 5
}
