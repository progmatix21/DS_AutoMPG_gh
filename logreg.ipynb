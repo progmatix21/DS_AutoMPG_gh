{
 "cells": [
  {
   "cell_type": "markdown",
   "id": "e2d832e9",
   "metadata": {},
   "source": [
    "# Logistic Regression\n",
    "The autompg dataset has been in popularity since many years. The dataset is formed so that we get to know about how cars were before with a poor acceleration, poor mpg and how they underwent an improvement. There are also important conclusions that can be drawn from the data. Japan and Europe have always been ahead in the competition compared to American cars that took a long time to get better. We apply a logistic regression to see if we can get the true positives and false positives for each category. We start our python program by importing the needed libraries. We will be needing numpy, matplotlib, pandas and sklearn."
   ]
  },
  {
   "cell_type": "code",
   "execution_count": 1,
   "id": "268516d8",
   "metadata": {},
   "outputs": [],
   "source": [
    "#Importing the libraries\n",
    "import numpy as np\n",
    "import matplotlib.pyplot as plt\n",
    "import pandas as pd\n",
    "from sklearn.metrics import confusion_matrix,accuracy_score, roc_curve, auc\n",
    "from sklearn.model_selection import KFold, StratifiedKFold"
   ]
  },
  {
   "cell_type": "markdown",
   "id": "4af508a9",
   "metadata": {},
   "source": [
    "The dataset is imported in a csv format. We have made use of the autompg dataset as we mentioned before. The autompg dataset is imported in the csv format. The read_csv() function from pandas takes care of reading the data. Next, we drop the missing values that are present in our dataset. There are six missing values in six rows that have to be dropped. For this, we make use of the dropna() function. The variable inplace=True takes care of assigning a boolean value to the missing value and assigning it to true so that it can be identified and changed."
   ]
  },
  {
   "cell_type": "code",
   "execution_count": 2,
   "id": "aade215d",
   "metadata": {},
   "outputs": [],
   "source": [
    "#Importing the dataset\n",
    "adf = pd.read_csv('auto-mpg.csv')\n",
    "adf.dropna(inplace=True)"
   ]
  },
  {
   "cell_type": "markdown",
   "id": "69843c3e",
   "metadata": {},
   "source": [
    "Assign the features and the label. The features are assigned as X and the label is assigned as y. "
   ]
  },
  {
   "cell_type": "code",
   "execution_count": 3,
   "id": "7cd1cd06",
   "metadata": {},
   "outputs": [],
   "source": [
    "X = adf.drop([\"origin\", \"car name\"], axis=1) # features\n",
    "y = adf[\"origin\"]  # label"
   ]
  },
  {
   "cell_type": "markdown",
   "id": "74d4c3cf",
   "metadata": {},
   "source": [
    "The class names are derived and are arranged in ascending order."
   ]
  },
  {
   "cell_type": "code",
   "execution_count": 4,
   "id": "38b46304",
   "metadata": {},
   "outputs": [],
   "source": [
    "# get the unique class names and sort them in ascending order.\n",
    "the_classes = y.unique()\n",
    "the_classes.sort()"
   ]
  },
  {
   "cell_type": "markdown",
   "id": "593c2062",
   "metadata": {},
   "source": [
    "Next, we perform a feature scaling by using the StandardScaler. The function fit_transform() now takes care of scaling the data to an appropriate size so that it easily fits in the graph."
   ]
  },
  {
   "cell_type": "code",
   "execution_count": 5,
   "id": "ac2d8e5c",
   "metadata": {},
   "outputs": [
    {
     "data": {
      "text/plain": [
       "array([[ 1.48394702,  1.07728956,  0.66413273, ..., -1.285258  ,\n",
       "        -1.62531533, -0.69863841],\n",
       "       [ 1.48394702,  1.48873169,  1.57459447, ..., -1.46672362,\n",
       "        -1.62531533, -1.08349824],\n",
       "       [ 1.48394702,  1.1825422 ,  1.18439658, ..., -1.64818924,\n",
       "        -1.62531533, -0.69863841],\n",
       "       ...,\n",
       "       [-0.86401356, -0.56847897, -0.53247413, ..., -1.4304305 ,\n",
       "         1.63640964,  1.09737414],\n",
       "       [-0.86401356, -0.7120053 , -0.66254009, ...,  1.11008813,\n",
       "         1.63640964,  0.5842277 ],\n",
       "       [-0.86401356, -0.72157372, -0.58450051, ...,  1.40043312,\n",
       "         1.63640964,  0.96908753]])"
      ]
     },
     "execution_count": 5,
     "metadata": {},
     "output_type": "execute_result"
    }
   ],
   "source": [
    "#Feature Scaling\n",
    "from sklearn.preprocessing import StandardScaler\n",
    "sc = StandardScaler()\n",
    "sc.fit_transform(X)"
   ]
  },
  {
   "cell_type": "markdown",
   "id": "12af0165",
   "metadata": {},
   "source": [
    "A split is performed on the dataset by using the train_test_split() function. The test_size is assigned as 0.25 and the random_state is assigned as 0. The dataset is split into the corresponding parts as X_train, X_test, y_train, y_test respectively. A test_size of 0.25 would mean that the dataset is split into equal parts of four."
   ]
  },
  {
   "cell_type": "code",
   "execution_count": 6,
   "id": "6142f93c",
   "metadata": {},
   "outputs": [],
   "source": [
    "#Splitting the dataset into training and test set\n",
    "from sklearn.model_selection import train_test_split\n",
    "X_train, X_test, y_train, y_test = train_test_split(X, y, test_size = 0.25, random_state = 0)"
   ]
  },
  {
   "cell_type": "markdown",
   "id": "9d1b925b",
   "metadata": {},
   "source": [
    "We now start with the logistic regression modelling. We start this by importing the respective libraries and modules. A classifier is created with the details given below as random_state 0 and the solver as liblinear."
   ]
  },
  {
   "cell_type": "code",
   "execution_count": 7,
   "id": "84d107c8",
   "metadata": {},
   "outputs": [],
   "source": [
    "#Fitting Logistic Regression\n",
    "from sklearn.linear_model import LogisticRegression\n",
    "classifier = LogisticRegression(random_state=0, solver='liblinear')"
   ]
  },
  {
   "cell_type": "markdown",
   "id": "564b63f7",
   "metadata": {},
   "source": [
    "A StratifiedKFold is performed with 10 splits. The whole command for StratifiedKFold is run and the output is seen if it is performed in the right manner. In our case, we got the correct result."
   ]
  },
  {
   "cell_type": "code",
   "execution_count": 8,
   "id": "2dd25cd0",
   "metadata": {},
   "outputs": [
    {
     "name": "stdout",
     "output_type": "stream",
     "text": [
      "StratifiedKFold(n_splits=10, random_state=None, shuffle=True)\n"
     ]
    }
   ],
   "source": [
    "skf4 = StratifiedKFold(n_splits = 10, shuffle = True, random_state=None)\n",
    "splitter = skf4\n",
    "splitter.get_n_splits(X)\n",
    "print(splitter)"
   ]
  },
  {
   "cell_type": "markdown",
   "id": "37e01834",
   "metadata": {},
   "source": [
    "A train_index and a test_index is assigned and fit into the classifier. We have got a new variable here called as y_pred. An accuracy score is also got for each of the 10 splits."
   ]
  },
  {
   "cell_type": "code",
   "execution_count": 9,
   "id": "2f01b2a4",
   "metadata": {},
   "outputs": [
    {
     "name": "stdout",
     "output_type": "stream",
     "text": [
      "Accuracy:  0.775\n",
      "Accuracy:  0.825\n",
      "Accuracy:  0.6923076923076923\n",
      "Accuracy:  0.7948717948717948\n",
      "Accuracy:  0.717948717948718\n",
      "Accuracy:  0.9487179487179487\n",
      "Accuracy:  0.7692307692307693\n",
      "Accuracy:  0.717948717948718\n",
      "Accuracy:  0.7692307692307693\n",
      "Accuracy:  0.8205128205128205\n"
     ]
    }
   ],
   "source": [
    "for train_index, test_index in splitter.split(X,y):\n",
    "    X_train, X_test = X.iloc[train_index], X.iloc[test_index]\n",
    "    y_train, y_test = y.iloc[train_index], y.iloc[test_index]\n",
    "    classifier.fit(X_train, y_train)\n",
    "    y_pred = classifier.predict(X_test)\n",
    "    print(\"Accuracy: \", accuracy_score(y_test, y_pred))"
   ]
  },
  {
   "cell_type": "markdown",
   "id": "25512e57",
   "metadata": {},
   "source": [
    "A confusion matrix is performed by the two values of y_test and y_pred. "
   ]
  },
  {
   "cell_type": "code",
   "execution_count": 10,
   "id": "db442308",
   "metadata": {},
   "outputs": [
    {
     "name": "stdout",
     "output_type": "stream",
     "text": [
      "[[21  0  3]\n",
      " [ 1  5  1]\n",
      " [ 1  1  6]]\n"
     ]
    }
   ],
   "source": [
    "from sklearn.metrics import confusion_matrix\n",
    "cm = confusion_matrix(y_test, y_pred)\n",
    "print(cm)"
   ]
  },
  {
   "cell_type": "markdown",
   "id": "0125d19d",
   "metadata": {},
   "source": [
    "A plot of the confusion matrix in the form of a  heat map appears below. A darker red shows a value that is very high and the lighter reds shows the lesser values. "
   ]
  },
  {
   "cell_type": "code",
   "execution_count": 11,
   "id": "f1c19739",
   "metadata": {},
   "outputs": [
    {
     "data": {
      "image/png": "[encoded data removed]",
      "text/plain": [
       "<Figure size 432x288 with 2 Axes>"
      ]
     },
     "metadata": {
      "needs_background": "light"
     },
     "output_type": "display_data"
    }
   ],
   "source": [
    "from sklearn.metrics import plot_confusion_matrix\n",
    "\n",
    "plot_confusion_matrix(classifier, X_test, y_test, \n",
    "                      display_labels=[\"American\",\"European\",\"Japanese\"],\n",
    "                     cmap = plt.cm.Reds, normalize='true')  \n",
    "plt.show()"
   ]
  },
  {
   "cell_type": "markdown",
   "id": "69cce180",
   "metadata": {},
   "source": [
    "We next move on to plotting our roc curve and also finding out the auc."
   ]
  },
  {
   "cell_type": "code",
   "execution_count": 12,
   "id": "74065d9d",
   "metadata": {},
   "outputs": [],
   "source": [
    "from sklearn.metrics import roc_curve, auc\n",
    "\n",
    "probs = classifier.predict_proba(X_test)"
   ]
  },
  {
   "cell_type": "markdown",
   "id": "40d136bd",
   "metadata": {},
   "source": [
    "A Binarization is performed on the predicted and the test labels. Binarization allows us to do a one vs rest ROC curve for each of the categories (labels)."
   ]
  },
  {
   "cell_type": "code",
   "execution_count": 13,
   "id": "b0f64fe3",
   "metadata": {},
   "outputs": [],
   "source": [
    "#Binarize both the predicted and test labels.\n",
    "from sklearn.preprocessing import label_binarize\n",
    "y_pred_bnz = label_binarize(y_pred, classes = the_classes)\n",
    "y_test_bnz = label_binarize(y_test, classes = the_classes)"
   ]
  },
  {
   "cell_type": "markdown",
   "id": "f58f3da9",
   "metadata": {},
   "source": [
    "The colors that are needed for our plot and the linestyles are obtained using python generators."
   ]
  },
  {
   "cell_type": "code",
   "execution_count": 14,
   "id": "784d3b5a",
   "metadata": {
    "tags": []
   },
   "outputs": [],
   "source": [
    "from itertools import cycle\n",
    "# a generator to get a color carousel\n",
    "plotcol = (col for col in cycle(['aqua','darkorange','cornflowerblue','navy','blue','green']))\n",
    "lstyle = (style for style in cycle(['dashed','solid','dotted','dashdot']))"
   ]
  },
  {
   "cell_type": "markdown",
   "id": "737a744e",
   "metadata": {},
   "source": [
    "An ROC curve is known as the Reciever Operating Characteristic curve. An ROC curve is a graphical plot that helps in varying the diagnostic ability of a binary classifier by varying its discrimination threshold. Perform a plot of the ROC curve as shown in the code below. The code specifies the various parameters for constructing our ROC curve. We have also included the micro-average ROC curve that looks at the overall TPR and FPR rates."
   ]
  },
  {
   "cell_type": "code",
   "execution_count": 15,
   "id": "fe972b83",
   "metadata": {},
   "outputs": [
    {
     "name": "stdout",
     "output_type": "stream",
     "text": [
      "1 auc:0.9528\n",
      "2 auc:0.9330\n",
      "3 auc:0.8871\n"
     ]
    },
    {
     "data": {
      "image/png": "[encoded data removed]",
      "text/plain": [
       "<Figure size 432x288 with 1 Axes>"
      ]
     },
     "metadata": {
      "needs_background": "light"
     },
     "output_type": "display_data"
    }
   ],
   "source": [
    "# an ROC with a micro average\n",
    "import matplotlib.pyplot as plt\n",
    "from sklearn.metrics import roc_curve\n",
    "\n",
    "for idx, cls in enumerate(the_classes):\n",
    "    fpr, tpr, thr = roc_curve(y_test_bnz[:,idx],probs[:,idx])\n",
    "    roc_auc = auc(fpr,tpr)\n",
    "    label_str = '%s auc:%0.4f' % (the_classes[idx],roc_auc)\n",
    "    print(label_str)\n",
    "    plt.plot(fpr, tpr, color=next(plotcol), linewidth=3, linestyle=next(lstyle), label = label_str, alpha=0.4)\n",
    "    plt.legend(loc = 'lower right')\n",
    "    plt.xlabel(\"features\")\n",
    "    plt.ylabel(\"label\")\n",
    "    plt.title(\"ROC curve of features vs. label\")\n",
    "    \n",
    "fpr_micro, tpr_micro, _ = roc_curve(y_test_bnz.ravel(), y_pred_bnz.ravel())\n",
    "roc_auc_micro = auc(fpr_micro, tpr_micro)\n",
    "label_str = 'micro avg. AOC %0.4f' % (roc_auc_micro)\n",
    "plt.plot(fpr_micro, tpr_micro, color=next(plotcol), linewidth=3, linestyle=next(lstyle), label=label_str, alpha=0.4)\n",
    "plt.legend(loc = 'lower right')\n",
    "plt.show(block=False)\n",
    "\n"
   ]
  },
  {
   "cell_type": "code",
   "execution_count": null,
   "id": "a162e0a4",
   "metadata": {},
   "outputs": [],
   "source": []
  }
 ],
 "metadata": {
  "kernelspec": {
   "display_name": "Python 3",
   "language": "python",
   "name": "python3"
  },
  "language_info": {
   "codemirror_mode": {
    "name": "ipython",
    "version": 3
   },
   "file_extension": ".py",
   "mimetype": "text/x-python",
   "name": "python",
   "nbconvert_exporter": "python",
   "pygments_lexer": "ipython3",
   "version": "3.8.5"
  }
 },
 "nbformat": 4,
 "nbformat_minor": 5
}
